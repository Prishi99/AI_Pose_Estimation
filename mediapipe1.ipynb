{
 "cells": [
  {
   "cell_type": "code",
   "execution_count": 1,
   "id": "9eac19b6-2f54-4453-89b0-25723c871225",
   "metadata": {},
   "outputs": [
    {
     "name": "stdout",
     "output_type": "stream",
     "text": [
      "Requirement already satisfied: mediapipe in c:\\users\\prish\\appdata\\local\\programs\\python\\python38\\lib\\site-packages (0.10.9)\n",
      "Requirement already satisfied: opencv-python in c:\\users\\prish\\appdata\\local\\programs\\python\\python38\\lib\\site-packages (4.9.0.80)\n",
      "Requirement already satisfied: sounddevice>=0.4.4 in c:\\users\\prish\\appdata\\local\\programs\\python\\python38\\lib\\site-packages (from mediapipe) (0.4.6)\n",
      "Requirement already satisfied: attrs>=19.1.0 in c:\\users\\prish\\appdata\\local\\programs\\python\\python38\\lib\\site-packages (from mediapipe) (23.2.0)\n",
      "Requirement already satisfied: opencv-contrib-python in c:\\users\\prish\\appdata\\local\\programs\\python\\python38\\lib\\site-packages (from mediapipe) (4.9.0.80)\n",
      "Requirement already satisfied: flatbuffers>=2.0 in c:\\users\\prish\\appdata\\local\\programs\\python\\python38\\lib\\site-packages (from mediapipe) (23.5.26)\n",
      "Requirement already satisfied: absl-py in c:\\users\\prish\\appdata\\local\\programs\\python\\python38\\lib\\site-packages (from mediapipe) (2.1.0)\n",
      "Requirement already satisfied: matplotlib in c:\\users\\prish\\appdata\\local\\programs\\python\\python38\\lib\\site-packages (from mediapipe) (3.7.4)\n",
      "Requirement already satisfied: numpy in c:\\users\\prish\\appdata\\local\\programs\\python\\python38\\lib\\site-packages (from mediapipe) (1.24.4)\n",
      "Requirement already satisfied: protobuf<4,>=3.11 in c:\\users\\prish\\appdata\\local\\programs\\python\\python38\\lib\\site-packages (from mediapipe) (3.20.3)\n",
      "Requirement already satisfied: CFFI>=1.0 in c:\\users\\prish\\appdata\\local\\programs\\python\\python38\\lib\\site-packages (from sounddevice>=0.4.4->mediapipe) (1.16.0)\n",
      "Requirement already satisfied: pycparser in c:\\users\\prish\\appdata\\local\\programs\\python\\python38\\lib\\site-packages (from CFFI>=1.0->sounddevice>=0.4.4->mediapipe) (2.21)\n",
      "Requirement already satisfied: contourpy>=1.0.1 in c:\\users\\prish\\appdata\\local\\programs\\python\\python38\\lib\\site-packages (from matplotlib->mediapipe) (1.1.1)\n",
      "Requirement already satisfied: fonttools>=4.22.0 in c:\\users\\prish\\appdata\\local\\programs\\python\\python38\\lib\\site-packages (from matplotlib->mediapipe) (4.47.2)\n",
      "Requirement already satisfied: python-dateutil>=2.7 in c:\\users\\prish\\appdata\\local\\programs\\python\\python38\\lib\\site-packages (from matplotlib->mediapipe) (2.8.2)\n",
      "Requirement already satisfied: cycler>=0.10 in c:\\users\\prish\\appdata\\local\\programs\\python\\python38\\lib\\site-packages (from matplotlib->mediapipe) (0.12.1)\n",
      "Requirement already satisfied: packaging>=20.0 in c:\\users\\prish\\appdata\\local\\programs\\python\\python38\\lib\\site-packages (from matplotlib->mediapipe) (23.2)\n",
      "Requirement already satisfied: pyparsing>=2.3.1 in c:\\users\\prish\\appdata\\local\\programs\\python\\python38\\lib\\site-packages (from matplotlib->mediapipe) (3.1.1)\n",
      "Requirement already satisfied: importlib-resources>=3.2.0 in c:\\users\\prish\\appdata\\local\\programs\\python\\python38\\lib\\site-packages (from matplotlib->mediapipe) (6.1.1)\n",
      "Requirement already satisfied: pillow>=6.2.0 in c:\\users\\prish\\appdata\\local\\programs\\python\\python38\\lib\\site-packages (from matplotlib->mediapipe) (10.2.0)\n",
      "Requirement already satisfied: kiwisolver>=1.0.1 in c:\\users\\prish\\appdata\\local\\programs\\python\\python38\\lib\\site-packages (from matplotlib->mediapipe) (1.4.5)\n",
      "Requirement already satisfied: zipp>=3.1.0 in c:\\users\\prish\\appdata\\local\\programs\\python\\python38\\lib\\site-packages (from importlib-resources>=3.2.0->matplotlib->mediapipe) (3.17.0)\n",
      "Requirement already satisfied: six>=1.5 in c:\\users\\prish\\appdata\\local\\programs\\python\\python38\\lib\\site-packages (from python-dateutil>=2.7->matplotlib->mediapipe) (1.16.0)\n"
     ]
    },
    {
     "name": "stderr",
     "output_type": "stream",
     "text": [
      "WARNING: You are using pip version 21.1.1; however, version 23.3.2 is available.\n",
      "You should consider upgrading via the 'c:\\users\\prish\\appdata\\local\\programs\\python\\python38\\python.exe -m pip install --upgrade pip' command.\n"
     ]
    }
   ],
   "source": [
    "!pip install mediapipe opencv-python\n",
    "\n"
   ]
  },
  {
   "cell_type": "code",
   "execution_count": 2,
   "id": "57593fb8-e565-4135-b162-d1d9ce46b4d6",
   "metadata": {},
   "outputs": [],
   "source": [
    "import cv2\n",
    "import mediapipe as mp\n",
    "import numpy as np\n",
    "mp_drawing = mp.solutions.drawing_utils\n",
    "mp_pose = mp.solutions.pose\n",
    "\n",
    "\n"
   ]
  },
  {
   "cell_type": "code",
   "execution_count": null,
   "id": "0d1c15c8-09a9-46ee-ba67-1cc5cb172077",
   "metadata": {},
   "outputs": [],
   "source": [
    "cap = cv2.VideoCapture(0)\n",
    "with mp_pose.Pose(min_detection_confidence=0.5, min_tracking_confidence=0.5) as pose:\n",
    "    while cap.isOpened() :\n",
    "        ret, frame = cap.read()\n",
    "\n",
    "    #detect stuff and render\n",
    "    #recolor image\n",
    "        image = cv2.cvtColor (frame, cv2.COLOR_BGR2RGB)\n",
    "        image.flag.writeable = False\n",
    "\n",
    "    \n",
    "    #make detection\n",
    "        results = pose.process(image)\n",
    "\n",
    "    #reclor to BGR\n",
    "        image.flags.writeable = True\n",
    "        image = cv2.cvtColor(image, cv2.COLOR_RGB2BGR)\n",
    "    \n",
    "        mp_drawing.draw_landmarks(image,results.pose_landmarks, mp_pose.POSE_CONNECTIONS)\n",
    "    \n",
    "        cv2.imshow('Mediapipe Feed' , image)\n",
    "        if cv2.waitKey(10) & 0xFF == ord('q'):\n",
    "            break\n",
    "\n",
    "    cap.release()\n",
    "    cv2.destroyAllWindows()\n",
    "#video feed\n",
    "\n"
   ]
  },
  {
   "cell_type": "code",
   "execution_count": 2,
   "id": "c2164a47-4369-4687-b149-350194ea0d50",
   "metadata": {},
   "outputs": [
    {
     "ename": "NameError",
     "evalue": "name 'results' is not defined",
     "output_type": "error",
     "traceback": [
      "\u001b[1;31m---------------------------------------------------------------------------\u001b[0m",
      "\u001b[1;31mNameError\u001b[0m                                 Traceback (most recent call last)",
      "Cell \u001b[1;32mIn[2], line 1\u001b[0m\n\u001b[1;32m----> 1\u001b[0m \u001b[43mresults\u001b[49m\u001b[38;5;241m.\u001b[39mpose_landmarks\n",
      "\u001b[1;31mNameError\u001b[0m: name 'results' is not defined"
     ]
    }
   ],
   "source": [
    "results.pose_landmarks\n"
   ]
  },
  {
   "cell_type": "code",
   "execution_count": 1,
   "id": "5b98d585-c9dc-41b6-a8dd-3258e96613d0",
   "metadata": {},
   "outputs": [
    {
     "ename": "NameError",
     "evalue": "name 'mp_pose' is not defined",
     "output_type": "error",
     "traceback": [
      "\u001b[1;31m---------------------------------------------------------------------------\u001b[0m",
      "\u001b[1;31mNameError\u001b[0m                                 Traceback (most recent call last)",
      "Cell \u001b[1;32mIn[1], line 1\u001b[0m\n\u001b[1;32m----> 1\u001b[0m \u001b[43mmp_pose\u001b[49m\u001b[38;5;241m.\u001b[39mPOSE_CONNECTIONS\n",
      "\u001b[1;31mNameError\u001b[0m: name 'mp_pose' is not defined"
     ]
    }
   ],
   "source": [
    "mp_pose.POSE_CONNECTIONS"
   ]
  },
  {
   "cell_type": "code",
   "execution_count": null,
   "id": "e29138b3-32aa-4b76-a64c-9b30a326cd4a",
   "metadata": {},
   "outputs": [],
   "source": []
  }
 ],
 "metadata": {
  "kernelspec": {
   "display_name": "Python 3 (ipykernel)",
   "language": "python",
   "name": "python3"
  },
  "language_info": {
   "codemirror_mode": {
    "name": "ipython",
    "version": 3
   },
   "file_extension": ".py",
   "mimetype": "text/x-python",
   "name": "python",
   "nbconvert_exporter": "python",
   "pygments_lexer": "ipython3",
   "version": "3.8.10"
  }
 },
 "nbformat": 4,
 "nbformat_minor": 5
}
